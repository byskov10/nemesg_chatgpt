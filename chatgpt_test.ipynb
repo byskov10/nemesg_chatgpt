{
 "cells": [
  {
   "cell_type": "code",
   "execution_count": 1,
   "metadata": {},
   "outputs": [
    {
     "name": "stderr",
     "output_type": "stream",
     "text": [
      "/Users/viktorbyskov/Desktop/nemesg_chatgpt/.venv/lib/python3.9/site-packages/urllib3/__init__.py:34: NotOpenSSLWarning: urllib3 v2.0 only supports OpenSSL 1.1.1+, currently the 'ssl' module is compiled with 'LibreSSL 2.8.3'. See: https://github.com/urllib3/urllib3/issues/3020\n",
      "  warnings.warn(\n"
     ]
    }
   ],
   "source": [
    "import openai\n",
    "import json\n",
    "\n",
    "import creds\n",
    "openai.api_key = creds.api"
   ]
  },
  {
   "cell_type": "code",
   "execution_count": 2,
   "metadata": {},
   "outputs": [
    {
     "name": "stdout",
     "output_type": "stream",
     "text": [
      "{\n",
      "  \"id\": \"chatcmpl-7cKdl4X3c0SRH81xUoZm6CNUz3jb3\",\n",
      "  \"object\": \"chat.completion\",\n",
      "  \"created\": 1689370161,\n",
      "  \"model\": \"gpt-3.5-turbo-0613\",\n",
      "  \"choices\": [\n",
      "    {\n",
      "      \"index\": 0,\n",
      "      \"message\": {\n",
      "        \"role\": \"assistant\",\n",
      "        \"content\": \"As an AI, I do not have feelings or emotions, but I am here to assist you. How may I help you today?\"\n",
      "      },\n",
      "      \"finish_reason\": \"stop\"\n",
      "    }\n",
      "  ],\n",
      "  \"usage\": {\n",
      "    \"prompt_tokens\": 11,\n",
      "    \"completion_tokens\": 27,\n",
      "    \"total_tokens\": 38\n",
      "  }\n",
      "}\n"
     ]
    }
   ],
   "source": [
    "completion = openai.ChatCompletion.create(\n",
    "    model=\"gpt-3.5-turbo\",\n",
    "    messages=[{\"role\": \"user\", \"content\": \"How are you?\"}]\n",
    ")\n",
    "\n",
    "print(completion)"
   ]
  },
  {
   "cell_type": "code",
   "execution_count": 3,
   "metadata": {},
   "outputs": [],
   "source": [
    "prompt = \"\"\"Kan du lave 10 konkrete og specifikke ESG-mål som ville kunne forbedres med det data som er tilgængeligt her? Under hvert mål må du meget gerne skrive hvilke tal man skal bruge for at udfylde målene. De er et designbureau med kontor i København, Mændendes medianløn er på 42000 kr. om måneden og kvindernes er på 38000 kr. om måneden, de er 7 kvinder og 12 mænd ansat, de ansatte har i gennemsnit 12 sygedage om året, Direktørens løn er 65000 kr. om måneden, der er 3 mandlige partnere og 1 kvindelig partner i firmaet. Udover det har de specielt valg 3 kerneområder de gerne vil fokusere på: Ligestilling og diversitet, Arbejdsløshed og jobskabelse, Kundevelfærd\"\"\""
   ]
  },
  {
   "cell_type": "code",
   "execution_count": 4,
   "metadata": {},
   "outputs": [],
   "source": [
    "completion = openai.ChatCompletion.create(\n",
    "    model=\"gpt-3.5-turbo\",\n",
    "    messages=[{\"role\": \"user\", \"content\": prompt}]\n",
    ")"
   ]
  },
  {
   "cell_type": "code",
   "execution_count": 5,
   "metadata": {},
   "outputs": [],
   "source": [
    "completion_dict = dict(completion)"
   ]
  },
  {
   "cell_type": "code",
   "execution_count": 6,
   "metadata": {},
   "outputs": [],
   "source": [
    "content = completion_dict['choices'][0]['message']['content']"
   ]
  },
  {
   "cell_type": "code",
   "execution_count": 7,
   "metadata": {},
   "outputs": [
    {
     "name": "stdout",
     "output_type": "stream",
     "text": [
      "1. Ligestilling og diversitet:\n",
      "   a. Reduktion af løngabet mellem mænd og kvinder med 5% inden for det næste år. Tal: Mænds medianløn (42.000 kr./md.), kvinders medianløn (38.000 kr./md.).\n",
      "   b. Øge antallet af kvinder ansat med 20% inden for de næste to år. Tal: Antal kvinder ansat (7 kvinder).\n",
      "   c. Implementere målrettet rekrutteringsstrategi for at tiltrække og fastholde mangfoldigt personale (fx øge ansættelse af minoriteter) inden for det næste år.\n",
      "\n",
      "2. Arbejdsløshed og jobskabelse:\n",
      "   a. Udvikle og implementere mentorprogram for arbejdsløse unge inden for en periode på seks måneder.\n",
      "   b. Øge antallet af praktikpladser med 15% inden for de næste to år.\n",
      "   c. Samarbejde med lokale uddannelsesinstitutioner til at tilbyde lærlingepladser inden for det næste år.\n",
      "\n",
      "3. Kundevelfærd:\n",
      "   a. Undersøge og forbedre kundetilfredshed gennem feedback og evalueringer med et mål om at øge tilfredsheden med 10% inden for det næste år.\n",
      "   b. Implementere mål for levering af bæredygtige produkter eller services inden for det næste år.\n",
      "   c. Etablere åbne kanaler for kommunikation og dialog med kunder for konstant at forbedre kundeoplevelsen.\n",
      "\n",
      "Bemærk: For at lave mere specifikke ESG-mål er det nødvendigt at have mere data til rådighed, f.eks. oplysninger om virksomhedens miljøpåvirkning, CO2-udledning, brug af ressourcer osv.\n"
     ]
    }
   ],
   "source": [
    "print(content)"
   ]
  },
  {
   "cell_type": "code",
   "execution_count": null,
   "metadata": {},
   "outputs": [],
   "source": []
  }
 ],
 "metadata": {
  "kernelspec": {
   "display_name": "venv",
   "language": "python",
   "name": "python3"
  },
  "language_info": {
   "codemirror_mode": {
    "name": "ipython",
    "version": 3
   },
   "file_extension": ".py",
   "mimetype": "text/x-python",
   "name": "python",
   "nbconvert_exporter": "python",
   "pygments_lexer": "ipython3",
   "version": "3.9.6"
  },
  "orig_nbformat": 4
 },
 "nbformat": 4,
 "nbformat_minor": 2
}
