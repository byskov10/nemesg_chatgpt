{
 "cells": [
  {
   "cell_type": "code",
   "execution_count": 12,
   "metadata": {},
   "outputs": [],
   "source": [
    "import openai\n",
    "import json\n",
    "\n",
    "import creds\n",
    "openai.api_key = creds.api"
   ]
  },
  {
   "cell_type": "code",
   "execution_count": 7,
   "metadata": {},
   "outputs": [
    {
     "name": "stdout",
     "output_type": "stream",
     "text": [
      "{\n",
      "  \"id\": \"chatcmpl-7cDMgSfwJ3csAPraoKwW8VO8XbqMH\",\n",
      "  \"object\": \"chat.completion\",\n",
      "  \"created\": 1689342194,\n",
      "  \"model\": \"gpt-3.5-turbo-0613\",\n",
      "  \"choices\": [\n",
      "    {\n",
      "      \"index\": 0,\n",
      "      \"message\": {\n",
      "        \"role\": \"assistant\",\n",
      "        \"content\": \"As an AI, I don't have feelings, but I'm here to assist you with any questions or tasks you have. How can I help you today?\"\n",
      "      },\n",
      "      \"finish_reason\": \"stop\"\n",
      "    }\n",
      "  ],\n",
      "  \"usage\": {\n",
      "    \"prompt_tokens\": 11,\n",
      "    \"completion_tokens\": 32,\n",
      "    \"total_tokens\": 43\n",
      "  }\n",
      "}\n"
     ]
    }
   ],
   "source": [
    "completion = openai.ChatCompletion.create(\n",
    "    model=\"gpt-3.5-turbo\",\n",
    "    messages=[{\"role\": \"user\", \"content\": \"How are you?\"}]\n",
    ")\n",
    "\n",
    "print(completion)"
   ]
  },
  {
   "cell_type": "code",
   "execution_count": 8,
   "metadata": {},
   "outputs": [],
   "source": [
    "prompt = \"\"\"Kan du lave 10 konkrete og specifikke ESG-mål som ville kunne forbedres med det data som er tilgængeligt her? Under hvert mål må du meget gerne skrive hvilke tal man skal bruge for at udfylde målene. De er et designbureau med kontor i København, Mændendes medianløn er på 42000 kr. om måneden og kvindernes er på 38000 kr. om måneden, de er 7 kvinder og 12 mænd ansat, de ansatte har i gennemsnit 12 sygedage om året, Direktørens løn er 65000 kr. om måneden, der er 3 mandlige partnere og 1 kvindelig partner i firmaet. Udover det har de specielt valg 3 kerneområder de gerne vil fokusere på: Ligestilling og diversitet, Arbejdsløshed og jobskabelse, Kundevelfærd\"\"\""
   ]
  },
  {
   "cell_type": "code",
   "execution_count": 14,
   "metadata": {},
   "outputs": [],
   "source": [
    "completion = openai.ChatCompletion.create(\n",
    "    model=\"gpt-3.5-turbo\",\n",
    "    messages=[{\"role\": \"user\", \"content\": prompt}]\n",
    ")"
   ]
  },
  {
   "cell_type": "code",
   "execution_count": 15,
   "metadata": {},
   "outputs": [],
   "source": [
    "completion_dict = dict(completion)"
   ]
  },
  {
   "cell_type": "code",
   "execution_count": 17,
   "metadata": {},
   "outputs": [],
   "source": [
    "content = completion_dict['choices'][0]['message']['content']"
   ]
  },
  {
   "cell_type": "code",
   "execution_count": 18,
   "metadata": {},
   "outputs": [
    {
     "data": {
      "text/plain": [
       "'1. Mål for ligestilling og diversitet:\\n   a. Øge antallet af ansatte kvinder med 25% inden for det næste år.\\n   b. Reducere løngabet mellem mænd og kvinder med 5% inden for det næste år.\\n   c. Implementere og fremme politikker, der støtter diversitet og inklusion på arbejdspladsen.\\n   - Tal: Antal kvindelige ansatte (7), antal mandlige ansatte (12), mænds medianløn (42.000 kr.), kvinders medianløn (38.000 kr.), antal ansatte i alt (19).\\n\\n2. Mål for arbejdsløshed og jobskabelse:\\n   a. Øge antallet af praktikpladser for unge inden for det næste år med 15%.\\n   b. Reducere antallet af sygedage pr. medarbejder med 10% inden for det næste år.\\n   c. Udvikle og implementere en mentorordning for at støtte medarbejderes faglige udvikling.\\n   - Tal: Antal sygedage pr. medarbejder pr. år (12), antal ansatte (19).\\n\\n3. Mål for kundevelfærd:\\n   a. Øge kundetilfredsheden med 10% inden for det næste år.\\n   b. Gennemføre regelmæssige kundetilfredshedsundersøgelser og handle på resultaterne.\\n   c. Udøve etisk forretningsadfærd ved at sikre gennemsigtighed og ansvarlighed over for kunderne.\\n   - Tal: Kundetilfredshedsniveau (før og efter forbedringerne), resultater fra kundetilfredshedsundersøgelser.\\n\\nBemærk: Disse mål er kun eksempler og kan justeres og formuleres mere specifikt efter virksomhedens behov og ønsker. Det er også vigtigt at bruge yderligere data og information til at sætte mere præcise og realistiske mål for hver kategori.'"
      ]
     },
     "execution_count": 18,
     "metadata": {},
     "output_type": "execute_result"
    }
   ],
   "source": [
    "content"
   ]
  },
  {
   "cell_type": "code",
   "execution_count": null,
   "metadata": {},
   "outputs": [],
   "source": []
  }
 ],
 "metadata": {
  "kernelspec": {
   "display_name": "venv",
   "language": "python",
   "name": "python3"
  },
  "language_info": {
   "codemirror_mode": {
    "name": "ipython",
    "version": 3
   },
   "file_extension": ".py",
   "mimetype": "text/x-python",
   "name": "python",
   "nbconvert_exporter": "python",
   "pygments_lexer": "ipython3",
   "version": "3.9.6"
  },
  "orig_nbformat": 4
 },
 "nbformat": 4,
 "nbformat_minor": 2
}
