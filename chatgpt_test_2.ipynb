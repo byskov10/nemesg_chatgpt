{
 "cells": [
  {
   "cell_type": "code",
   "execution_count": 1,
   "metadata": {},
   "outputs": [
    {
     "name": "stderr",
     "output_type": "stream",
     "text": [
      "/Users/viktorbyskov/Desktop/nemesg_chatgpt/.venv/lib/python3.9/site-packages/urllib3/__init__.py:34: NotOpenSSLWarning: urllib3 v2.0 only supports OpenSSL 1.1.1+, currently the 'ssl' module is compiled with 'LibreSSL 2.8.3'. See: https://github.com/urllib3/urllib3/issues/3020\n",
      "  warnings.warn(\n"
     ]
    }
   ],
   "source": [
    "import openai\n",
    "import json\n",
    "\n",
    "import creds\n",
    "openai.api_key = creds.api"
   ]
  },
  {
   "cell_type": "code",
   "execution_count": 2,
   "metadata": {},
   "outputs": [
    {
     "name": "stdout",
     "output_type": "stream",
     "text": [
      "{\n",
      "  \"id\": \"chatcmpl-7cKdl4X3c0SRH81xUoZm6CNUz3jb3\",\n",
      "  \"object\": \"chat.completion\",\n",
      "  \"created\": 1689370161,\n",
      "  \"model\": \"gpt-3.5-turbo-0613\",\n",
      "  \"choices\": [\n",
      "    {\n",
      "      \"index\": 0,\n",
      "      \"message\": {\n",
      "        \"role\": \"assistant\",\n",
      "        \"content\": \"As an AI, I do not have feelings or emotions, but I am here to assist you. How may I help you today?\"\n",
      "      },\n",
      "      \"finish_reason\": \"stop\"\n",
      "    }\n",
      "  ],\n",
      "  \"usage\": {\n",
      "    \"prompt_tokens\": 11,\n",
      "    \"completion_tokens\": 27,\n",
      "    \"total_tokens\": 38\n",
      "  }\n",
      "}\n"
     ]
    }
   ],
   "source": [
    "completion = openai.ChatCompletion.create(\n",
    "    model=\"gpt-3.5-turbo\",\n",
    "    messages=[{\"role\": \"user\", \"content\": \"How are you?\"}]\n",
    ")\n",
    "\n",
    "print(completion)"
   ]
  },
  {
   "cell_type": "code",
   "execution_count": 2,
   "metadata": {},
   "outputs": [],
   "source": [
    "prompt = \"\"\"I have spreadsheet with ESG data about a company in csv format.\n",
    "These are the column headings:\n",
    "Company name,Number of employees,Female employees,Male employees,Female employees in percentage,Male employees in percentage,Sickness absence in days per employee for one year,Median salary for men in DKK,Median salary for women in DKK\n",
    "\n",
    "This is the data:\n",
    "StellarTech Solutions,19,18,1,94.74,5.26,11.12,\"39.000,00\",\"32.000,00\"\n",
    "\n",
    "Can you come up with 5 suggestions to improve the companies ESG data?\n",
    "Write a description of the improvement, the numeric data as it is now, and a specific numeric goal for the data. Come up with 3 ideas to intitiatives, that the company can do to reach the goal (seperate with a comma).\n",
    "\n",
    "In the answer, remove double quotations from numbers.\n",
    "The answer needs to be in Danish.\"\"\""
   ]
  },
  {
   "cell_type": "code",
   "execution_count": 3,
   "metadata": {},
   "outputs": [],
   "source": [
    "completion = openai.ChatCompletion.create(\n",
    "    model=\"gpt-3.5-turbo\",\n",
    "    messages=[{\"role\": \"user\", \"content\": prompt}]\n",
    ")"
   ]
  },
  {
   "cell_type": "code",
   "execution_count": 4,
   "metadata": {},
   "outputs": [],
   "source": [
    "completion_dict = dict(completion)"
   ]
  },
  {
   "cell_type": "code",
   "execution_count": 5,
   "metadata": {},
   "outputs": [],
   "source": [
    "content = completion_dict['choices'][0]['message']['content']"
   ]
  },
  {
   "cell_type": "code",
   "execution_count": 6,
   "metadata": {},
   "outputs": [
    {
     "name": "stdout",
     "output_type": "stream",
     "text": [
      "1. Forøgelse af kvindelige medarbejdere:\n",
      "Beskrivelse: StellarTech Solutions bør arbejde på at øge antallet af kvindelige medarbejdere i virksomheden. Den aktuelle data viser, at kun 1 ud af 19 ansatte er en kvinde. Ved at øge mangfoldigheden kan virksomheden drage fordel af forskellige perspektiver og fremme ligestilling.\n",
      "Aktuelle data: Antal kvindelige medarbejdere: 1\n",
      "Målsætning: Øg antallet af kvindelige medarbejdere til mindst 30% af det samlede medarbejderantal.\n",
      "Initiativer: Implementer en diversitets- og inklusionspolitik, der fremmer lige muligheder for kvinder i rekrutteringsprocessen. Oprethold et positivt arbejdsmiljø, der er attraktivt for kvindelige ansøgere. Udvikl mentorprogrammer og støttenetværk målrettet kvindelige medarbejdere.\n",
      "\n",
      "2. Ligestilling i løn:\n",
      "Beskrivelse: StellarTech Solutions bør stræbe efter at opnå ligestilling i lønnen mellem mænd og kvinder. Den aktuelle data viser, at medianlønnen for mænd er 39.000 DKK, mens den er 32.000 DKK for kvinder. Ved at eliminere løngabet kan virksomheden sikre fair og retfærdig kompensation for alle medarbejdere.\n",
      "Aktuelle data: Medianløn for mænd: 39.000 DKK, Medianløn for kvinder: 32.000 DKK\n",
      "Målsætning: Opnå ligeløn mellem mænd og kvinder ved at sikre, at medianlønnen ikke har nogen signifikant kønsforskel.\n",
      "Initiativer: Udfør en løngennemgang for at identificere eventuelle skævheder i lønsystemet. Implementer lønpolitikker, der fremmer gennemsigtighed og retfærdighed. Tilbyd træning og opkvalificering til kvindelige medarbejdere for at styrke deres forhandlingsposition.\n",
      "\n",
      "3. Reduktion af sygefravær:\n",
      "Beskrivelse: StellarTech Solutions bør fokusere på at reducere sygefraværet blandt medarbejderne for at skabe et sundt arbejdsmiljø og forbedret produktivitet. Den aktuelle data viser, at der er i gennemsnit 11,12 sygedage pr. medarbejder om året.\n",
      "Aktuelle data: Sygefravær pr. medarbejder om året: 11,12 dage\n",
      "Målsætning: Reducér sygefraværet til under 8 dage pr. medarbejder om året.\n",
      "Initiativer: Etablér et sygefraværsprogram med fokus på forebyggelse og sundhedspromovering. Tilbyd medarbejdere fleksible arbejdstidsordninger og mulighed for hjemmearbejde for at opretholde en god work-life balance. Skab et støttende arbejdsmiljø, hvor medarbejdere føler sig trygge ved at tage fridage ved sygdom.\n",
      "\n",
      "4. Øget rapportering om ESG-data:\n",
      "Beskrivelse: StellarTech Solutions bør øge deres rapportering om ESG-data for at demonstrere deres engagement i bæredygtighed og ansvarlig virksomhedspraksis. Den aktuelle data er kun afgrænset til få områder som kønsdiversitet og sygefravær. Ved at udvide rapporteringen kan virksomheden bedre dokumentere deres ESG-indsats til interessenter.\n",
      "Aktuelle data: ESG-data rapporteres kun om få områder\n",
      "Målsætning: Udvid rapporteringen til at omfatte flere ESG-aspekter som miljømæssig præstation og samfundsansvar.\n",
      "Initiativer: Implementér et ESG-rapporteringsrammeværk, der er i overensstemmelse med internationale standarder som GRI eller SASB. Indfør et system til indsamling af data om miljømæssige aspekter såsom CO2-udledning og affaldshåndtering. Fremlæg en årlig ESG-rapport til interessenterne.\n",
      "\n",
      "5. Mangfoldighedsprogrammer og inklusion:\n",
      "Beskrivelse: StellarTech Solutions bør etablere mangfoldighedsprogrammer og fremme inklusion for at skabe en arbejdsplads, der værdsætter og fejrer forskelligheder. Den nuværende data viser en ubalance mellem mandlige og kvindelige medarbejdere.\n",
      "Aktuelle data: Antallet af kvindelige medarbejdere er lavt i forhold til det samlede antal ansatte.\n",
      "Målsætning: Skab en inkluderende arbejdsplads, hvor forskelle værdsættes, og 30% af ledende stillinger besættes af kvinder.\n",
      "Initiativer: Udvikl og implementer mangfoldigheds- og inklusionsprogrammer, der uddanner medarbejdere om forskellige kulturer, baggrunde og interesser. Fremme mentorordninger, der forbinder kvindelige medarbejdere med ledere og støtte deres karriereudvikling. Udvikl og håndhæv politikker mod forskelsbehandling og chikane for at sikre et trygt og inkluderende arbejdsmiljø.\n"
     ]
    }
   ],
   "source": [
    "print(content)"
   ]
  },
  {
   "cell_type": "code",
   "execution_count": null,
   "metadata": {},
   "outputs": [],
   "source": []
  }
 ],
 "metadata": {
  "kernelspec": {
   "display_name": "venv",
   "language": "python",
   "name": "python3"
  },
  "language_info": {
   "codemirror_mode": {
    "name": "ipython",
    "version": 3
   },
   "file_extension": ".py",
   "mimetype": "text/x-python",
   "name": "python",
   "nbconvert_exporter": "python",
   "pygments_lexer": "ipython3",
   "version": "3.9.6"
  },
  "orig_nbformat": 4
 },
 "nbformat": 4,
 "nbformat_minor": 2
}
